{
 "cells": [
  {
   "cell_type": "code",
   "execution_count": null,
   "metadata": {
    "collapsed": true
   },
   "outputs": [],
   "source": []
  },
  {
   "cell_type": "code",
   "execution_count": null,
   "outputs": [],
   "source": [
    "import matplotlib.pyplot as plt\n",
    "from samitorch.inputs.augmentation.transformers import AddBiasField, AddNoise\n",
    "plt.rc('font', size=25)\n",
    "import nibabel as nib\n",
    "import numpy as np\n",
    "import seaborn as sns\n",
    "import torch"
   ],
   "metadata": {
    "collapsed": false,
    "pycharm": {
     "name": "#%%\n"
    }
   }
  },
  {
   "cell_type": "code",
   "execution_count": null,
   "outputs": [],
   "source": [
    "image_2 = nib.load(\"/Users/pierre-luc-delisle/ComputeCanada/ComputeCanada/final_run/DCGAN_scaled_gaussian_filter_5_disc_ratio_1.50/Reconstructed_Normalized_MRBrainS_Image_90.nii.gz\").get_fdata()\n",
    "mask_2 = nib.load(\"/Users/pierre-luc-delisle/ComputeCanada/ComputeCanada/final_run/DCGAN_scaled_gaussian_filter_5_disc_ratio_1.50/Reconstructed_Segmented_MRBrainS_Image_90.nii.gz\").get_fdata()\n",
    "\n"
   ],
   "metadata": {
    "collapsed": false,
    "pycharm": {
     "name": "#%%\n"
    }
   }
  },
  {
   "cell_type": "code",
   "execution_count": null,
   "outputs": [],
   "source": [
    "image_2[mask==0]=0\n",
    "image_2 = image_2 / image_2.max()\n",
    "\n"
   ],
   "metadata": {
    "collapsed": false,
    "pycharm": {
     "name": "#%%\n"
    }
   }
  },
  {
   "cell_type": "code",
   "execution_count": null,
   "outputs": [],
   "source": [
    "plt.imshow(image_2[:, :, 160], cmap=\"gray\")\n",
    "plt.show()\n",
    "\n",
    "nib_image = nib.Nifti1Image(image_2, None)\n",
    "nib.save(nib_image, \"new_image_mrbrains.nii.gz\")\n"
   ],
   "metadata": {
    "collapsed": false,
    "pycharm": {
     "name": "#%%\n"
    }
   }
  },
  {
   "cell_type": "code",
   "execution_count": null,
   "outputs": [],
   "source": [
    "image_3 = nib.load(\"/Users/pierre-luc-delisle/ComputeCanada/ComputeCanada/final_run/DCGAN_scaled_gaussian_filter_5_disc_ratio_1.50/Reconstructed_Normalized_iSEG_Image_90.nii.gz\").get_fdata()\n",
    "mask_3 = nib.load(\"/Users/pierre-luc-delisle/ComputeCanada/ComputeCanada/final_run/DCGAN_scaled_gaussian_filter_5_disc_ratio_1.50/Reconstructed_Segmented_iSEG_Image_90.nii.gz\").get_fdata()\n",
    "\n"
   ],
   "metadata": {
    "collapsed": false,
    "pycharm": {
     "name": "#%%\n"
    }
   }
  },
  {
   "cell_type": "code",
   "execution_count": null,
   "outputs": [],
   "source": [
    "image_3[mask_3==0]=0\n",
    "max = image_3.max()\n",
    "image_3 = image_3 / image_3.max()\n"
   ],
   "metadata": {
    "collapsed": false,
    "pycharm": {
     "name": "#%%\n"
    }
   }
  },
  {
   "cell_type": "code",
   "execution_count": null,
   "outputs": [],
   "source": [
    "plt.imshow(image_3[:, :, 160], cmap=\"gray\")\n",
    "plt.show()\n",
    "\n",
    "nib_image = nib.Nifti1Image(image_3, None)\n",
    "nib.save(nib_image, \"new_image_iseg.nii.gz\")\n",
    "\n"
   ],
   "metadata": {
    "collapsed": false,
    "pycharm": {
     "name": "#%%\n"
    }
   }
  },
  {
   "cell_type": "code",
   "execution_count": null,
   "outputs": [],
   "source": [
    "input_mrbrains = nib.load(\"/Users/pierre-luc-delisle/Documents/DCGAN_canada_scaled_gaussian_filter_5_disc_ratio_5_00/Reconstructed_Input_MRBrainS_Image_90.nii.gz\").get_fdata()\n",
    "input_iseg = nib.load(\"/Users/pierre-luc-delisle/Documents/DCGAN_canada_scaled_gaussian_filter_5_disc_ratio_5_00/Reconstructed_Input_iSEG_Image_90.nii.gz\").get_fdata()\n",
    "image_mrbrains = nib.load(\"/Users/pierre-luc-delisle/Documents/DCGAN_canada_scaled_gaussian_filter_5_disc_ratio_5_00/Reconstructed_Normalized_MRBrainS_Image_90.nii.gz\").get_fdata()\n",
    "image_iseg = nib.load(\"/Users/pierre-luc-delisle/Documents/DCGAN_canada_scaled_gaussian_filter_5_disc_ratio_5_00/Reconstructed_Normalized_iSEG_Image_90.nii.gz\").get_fdata()\n",
    "seg_mrbrains = nib.load(\"/Users/pierre-luc-delisle/Documents/DCGAN_canada_scaled_gaussian_filter_5_disc_ratio_5_00/Reconstructed_Segmented_MRBrainS_Image_90.nii.gz\").get_fdata()\n",
    "gt_mrbrains = nib.load(\"/Users/pierre-luc-delisle/Documents/DCGAN_canada_scaled_gaussian_filter_5_disc_ratio_5_00/Reconstructed_Ground_Truth_MRBrainS_Image_90.nii.gz\").get_fdata()\n",
    "seg_iseg = nib.load(\"/Users/pierre-luc-delisle/Documents/DCGAN_canada_scaled_gaussian_filter_5_disc_ratio_5_00/Reconstructed_Segmented_iSEG_Image_90.nii.gz\").get_fdata()\n",
    "gt_iseg = nib.load(\"/Users/pierre-luc-delisle/Documents/DCGAN_canada_scaled_gaussian_filter_5_disc_ratio_5_00/Reconstructed_Ground_Truth_iSEG_Image_90.nii.gz\").get_fdata()"
   ],
   "metadata": {
    "collapsed": false,
    "pycharm": {
     "name": "#%%\n"
    }
   }
  },
  {
   "cell_type": "code",
   "execution_count": null,
   "outputs": [],
   "source": [
    "fig1, (ax1, ax2, ax3) = plt.subplots(nrows=3, ncols=1, figsize=(15, 15))\n",
    "\n",
    "\n",
    "_, bins, _ = ax1.hist(input_mrbrains.flatten()[np.where(gt_mrbrains.flatten() == 1)], bins=128,\n",
    "                          range=(0, 1),\n",
    "                          density=True, label=\"MRBrainS Input CSF\", color=\"darkblue\")\n",
    "_ = ax1.hist(input_iseg.flatten()[np.where(gt_iseg.flatten() == 1)], bins=128,\n",
    "                          range=(0, 1), alpha=0.75,\n",
    "                          density=True, label=\"iSEG Input CSF\", color=\"red\")\n",
    "_ = ax1.hist(image_mrbrains.flatten()[np.where(seg_mrbrains.flatten() == 1)], bins=128,\n",
    "                          range=(0, 1),\n",
    "                          density=True, label=\"MRBrainS Normalized CSF\", color=\"cornflowerblue\")\n",
    "_ = ax1.hist(image_iseg.flatten()[np.where(seg_iseg.flatten() == 1)], bins=128,\n",
    "                          range=(0, 1), alpha=0.75,\n",
    "                          density=True, label=\"iSEG Normalized CSF\", color=\"lightcoral\")\n",
    "ax1.set_xlabel(\"Intensity\")\n",
    "ax1.set_ylabel(\"Normalized voxel count\")\n",
    "ax1.set_title(\"Generated CSF Histogram\")\n",
    "ax1.legend()\n",
    "\n",
    "_, bins, _ = ax2.hist(input_mrbrains.flatten()[np.where(gt_mrbrains.flatten() == 2)], bins=128,\n",
    "                          range=(0, 1),\n",
    "                          density=True, label=\"MRBrainS Input GM\", color=\"darkblue\")\n",
    "_ = ax2.hist(input_iseg.flatten()[np.where(gt_iseg.flatten() == 2)], bins=128,\n",
    "                          range=(0, 1), alpha=0.75,\n",
    "                          density=True, label=\"iSEG Input GM\", color=\"red\")\n",
    "_ = ax2.hist(image_mrbrains.flatten()[np.where(seg_mrbrains.flatten() == 2)], bins=128,\n",
    "                          range=(0, 1),\n",
    "                          density=True, label=\"MRBrainS Normalized GM\", color=\"cornflowerblue\")\n",
    "_ = ax2.hist(image_iseg.flatten()[np.where(seg_iseg.flatten() == 2)], bins=128,\n",
    "                          range=(0, 1), alpha=0.75,\n",
    "                          density=True, label=\"iSEG Normalized GM\", color=\"lightcoral\")\n",
    "ax2.set_xlabel(\"Intensity\")\n",
    "ax2.set_ylabel(\"Normalized voxel count\")\n",
    "ax2.set_title(\"Generated Grey Matter Histogram\")\n",
    "ax2.legend()\n",
    "\n",
    "_, bins, _ = ax3.hist(input_mrbrains.flatten()[np.where(gt_mrbrains.flatten() == 3)], bins=128,\n",
    "                          range=(0, 1),\n",
    "                          density=True, label=\"MRBrainS Input WM\", color=\"darkblue\")\n",
    "_ = ax3.hist(input_iseg.flatten()[np.where(gt_iseg.flatten() == 3)], bins=128,\n",
    "                          range=(0, 1), alpha=0.75,\n",
    "                          density=True, label=\"iSEG Input WM\", color=\"red\")\n",
    "_ = ax3.hist(image_mrbrains.flatten()[np.where(seg_mrbrains.flatten() == 3)], bins=128,\n",
    "                          range=(0, 1),\n",
    "                          density=True, label=\"MRBrainS Normalized WM\", color=\"cornflowerblue\")\n",
    "_ = ax3.hist(image_iseg.flatten()[np.where(seg_iseg.flatten() == 3)], bins=128,\n",
    "                          range=(0, 1), alpha=0.75,\n",
    "                          density=True, label=\"iSEG Normalized WM\", color=\"lightcoral\")\n",
    "ax3.set_xlabel(\"Intensity\")\n",
    "ax3.set_ylabel(\"Normalized voxel count\")\n",
    "ax3.set_title(\"Generated White Matter Histogram\")\n",
    "ax3.legend()\n",
    "\n",
    "fig1.tight_layout()\n",
    "fig1.savefig(\"histograms.png\")"
   ],
   "metadata": {
    "collapsed": false,
    "pycharm": {
     "name": "#%%\n"
    }
   }
  },
  {
   "cell_type": "code",
   "execution_count": null,
   "outputs": [],
   "source": [
    "\n",
    "input_mrbrains = nib.load(\"/Users/pierre-luc-delisle/Documents/DualUNet_canada_scaled_dual_dataset/reconstructed_images/Reconstructed_Input_MRBrainS_Image_80.nii.gz\").get_fdata()\n",
    "input_iseg = nib.load(\"/Users/pierre-luc-delisle/Documents/DualUNet_canada_scaled_dual_dataset/reconstructed_images/Reconstructed_Input_iSEG_Image_80.nii.gz\").get_fdata()\n",
    "image_mrbrains = nib.load(\"/Users/pierre-luc-delisle/Documents/DualUNet_canada_scaled_dual_dataset/reconstructed_images/Reconstructed_Normalized_MRBrainS_Image_80.nii.gz\").get_fdata()\n",
    "image_iseg = nib.load(\"/Users/pierre-luc-delisle/Documents/DualUNet_canada_scaled_dual_dataset/reconstructed_images/Reconstructed_Normalized_iSEG_Image_80.nii.gz\").get_fdata()\n",
    "seg_mrbrains = nib.load(\"/Users/pierre-luc-delisle/Documents/DualUNet_canada_scaled_dual_dataset/reconstructed_images/Reconstructed_Segmented_MRBrainS_Image_80.nii.gz\").get_fdata()\n",
    "gt_mrbrains = nib.load(\"/Users/pierre-luc-delisle/Documents/DualUNet_canada_scaled_dual_dataset/reconstructed_images/Reconstructed_Ground_Truth_MRBrainS_Image_80.nii.gz\").get_fdata()\n",
    "seg_iseg = nib.load(\"/Users/pierre-luc-delisle/Documents/DualUNet_canada_scaled_dual_dataset/reconstructed_images/Reconstructed_Segmented_iSEG_Image_80.nii.gz\").get_fdata()\n",
    "gt_iseg = nib.load(\"/Users/pierre-luc-delisle/Documents/DualUNet_canada_scaled_dual_dataset/reconstructed_images/Reconstructed_Ground_Truth_iSEG_Image_80.nii.gz\").get_fdata()"
   ],
   "metadata": {
    "collapsed": false,
    "pycharm": {
     "name": "#%%\n"
    }
   }
  },
  {
   "cell_type": "code",
   "execution_count": null,
   "outputs": [],
   "source": [
    "fig1, (ax1, ax2, ax3) = plt.subplots(nrows=3, ncols=1, figsize=(15, 15))\n",
    "\n",
    "\n",
    "_, bins, _ = ax1.hist(input_mrbrains.flatten()[np.where(gt_mrbrains.flatten() == 1)], bins=128,\n",
    "                          range=(0, 1),\n",
    "                          density=True, label=\"MRBrainS Input CSF\", color=\"darkblue\")\n",
    "_ = ax1.hist(input_iseg.flatten()[np.where(gt_iseg.flatten() == 1)], bins=128,\n",
    "                          range=(0, 1), alpha=0.75,\n",
    "                          density=True, label=\"iSEG Input CSF\", color=\"red\")\n",
    "_ = ax1.hist(image_mrbrains.flatten()[np.where(seg_mrbrains.flatten() == 1)], bins=128,\n",
    "                          range=(0, 1),\n",
    "                          density=True, label=\"MRBrainS Normalized CSF\", color=\"cornflowerblue\")\n",
    "_ = ax1.hist(image_iseg.flatten()[np.where(seg_iseg.flatten() == 1)], bins=128,\n",
    "                          range=(0, 1), alpha=0.75,\n",
    "                          density=True, label=\"iSEG Normalized CSF\", color=\"lightcoral\")\n",
    "ax1.set_xlabel(\"Intensity\")\n",
    "ax1.set_ylabel(\"Normalized voxel count\")\n",
    "ax1.set_title(\"Generated CSF Histogram\")\n",
    "ax1.legend()\n",
    "\n",
    "_, bins, _ = ax2.hist(input_mrbrains.flatten()[np.where(gt_mrbrains.flatten() == 2)], bins=256,\n",
    "                          range=(0, 1),\n",
    "                          density=True, label=\"MRBrainS Input GM\", color=\"darkblue\")\n",
    "_ = ax2.hist(input_iseg.flatten()[np.where(gt_iseg.flatten() == 2)], bins=256,\n",
    "                          range=(0, 1), alpha=0.75,\n",
    "                          density=True, label=\"iSEG Input GM\", color=\"red\")\n",
    "_ = ax2.hist(image_mrbrains.flatten()[np.where(seg_mrbrains.flatten() == 2)], bins=256,\n",
    "                          range=(0, 1),\n",
    "                          density=True, label=\"MRBrainS Normalized GM\", color=\"cornflowerblue\")\n",
    "_ = ax2.hist(image_iseg.flatten()[np.where(seg_iseg.flatten() == 2)], bins=256,\n",
    "                          range=(0, 1), alpha=0.75,\n",
    "                          density=True, label=\"iSEG Normalized GM\", color=\"lightcoral\")\n",
    "ax2.set_xlabel(\"Intensity\")\n",
    "ax2.set_ylabel(\"Normalized voxel count\")\n",
    "ax2.set_title(\"Generated Grey Matter Histogram\")\n",
    "ax2.legend()\n",
    "\n",
    "_, bins, _ = ax3.hist(input_mrbrains.flatten()[np.where(gt_mrbrains.flatten() == 3)], bins=256,\n",
    "                          range=(0, 1),\n",
    "                          density=True, label=\"MRBrainS Input WM\", color=\"darkblue\")\n",
    "_ = ax3.hist(input_iseg.flatten()[np.where(gt_iseg.flatten() == 3)], bins=256,\n",
    "                          range=(0, 1), alpha=0.75,\n",
    "                          density=True, label=\"iSEG Input WM\", color=\"red\")\n",
    "_ = ax3.hist(image_mrbrains.flatten()[np.where(seg_mrbrains.flatten() == 3)], bins=256,\n",
    "                          range=(0, 1),\n",
    "                          density=True, label=\"MRBrainS Normalized WM\", color=\"cornflowerblue\")\n",
    "_ = ax3.hist(image_iseg.flatten()[np.where(seg_iseg.flatten() == 3)], bins=256,\n",
    "                          range=(0, 1), alpha=0.75,\n",
    "                          density=True, label=\"iSEG Normalized WM\", color=\"lightcoral\")\n",
    "ax3.set_xlabel(\"Intensity\")\n",
    "ax3.set_ylabel(\"Normalized voxel count\")\n",
    "ax3.set_title(\"Generated White Matter Histogram\")\n",
    "ax3.legend()\n",
    "\n",
    "fig1.tight_layout()\n",
    "fig1.savefig(\"histograms.png\")"
   ],
   "metadata": {
    "collapsed": false,
    "pycharm": {
     "name": "#%%\n"
    }
   }
  },
  {
   "cell_type": "code",
   "execution_count": null,
   "outputs": [],
   "source": [
    "input_mrbrains = nib.load(\"/Users/pierre-luc-delisle/ComputeCanada/ComputeCanada/final_run/DualUNet_canada_dual_dataset/Reconstructed_Input_MRBrainS_Image_80.nii.gz\").get_fdata()\n",
    "input_iseg = nib.load(\"/Users/pierre-luc-delisle/ComputeCanada/ComputeCanada/final_run/DualUNet_canada_dual_dataset/Reconstructed_Input_iSEG_Image_80.nii.gz\").get_fdata()\n",
    "image_mrbrains = nib.load(\"/Users/pierre-luc-delisle/ComputeCanada/ComputeCanada/final_run/DualUNet_canada_dual_dataset/Reconstructed_Normalized_MRBrainS_Image_80.nii.gz\").get_fdata()\n",
    "image_iseg = nib.load(\"/Users/pierre-luc-delisle/ComputeCanada/ComputeCanada/final_run/DualUNet_canada_dual_dataset/Reconstructed_Normalized_iSEG_Image_80.nii.gz\").get_fdata()\n",
    "seg_mrbrains = nib.load(\"/Users/pierre-luc-delisle/ComputeCanada/ComputeCanada/final_run/DualUNet_canada_dual_dataset/Reconstructed_Segmented_MRBrainS_Image_80.nii.gz\").get_fdata()\n",
    "gt_mrbrains = nib.load(\"/Users/pierre-luc-delisle/ComputeCanada/ComputeCanada/final_run/DualUNet_canada_dual_dataset/Reconstructed_Ground_Truth_MRBrainS_Image_80.nii.gz\").get_fdata()\n",
    "seg_iseg = nib.load(\"/Users/pierre-luc-delisle/ComputeCanada/ComputeCanada/final_run/DualUNet_canada_dual_dataset/Reconstructed_Segmented_iSEG_Image_80.nii.gz\").get_fdata()\n",
    "gt_iseg = nib.load(\"/Users/pierre-luc-delisle/ComputeCanada/ComputeCanada/final_run/DualUNet_canada_dual_dataset/Reconstructed_Ground_Truth_iSEG_Image_80.nii.gz\").get_fdata()"
   ],
   "metadata": {
    "collapsed": false,
    "pycharm": {
     "name": "#%%\n"
    }
   }
  },
  {
   "cell_type": "code",
   "execution_count": null,
   "outputs": [],
   "source": [
    "fig1, (ax1, ax2, ax3) = plt.subplots(nrows=3, ncols=1, figsize=(15, 15))\n",
    "\n",
    "\n",
    "_, bins, _ = ax1.hist(input_mrbrains.flatten()[np.where(gt_mrbrains.flatten() == 1)], bins=256,\n",
    "                          range=(0, 1),\n",
    "                          density=True, label=\"MRBrainS Input CSF\", color=\"darkblue\")\n",
    "_ = ax1.hist(input_iseg.flatten()[np.where(gt_iseg.flatten() == 1)], bins=256,\n",
    "                          range=(0, 1),\n",
    "                          alpha=0.75,\n",
    "                          density=True, label=\"iSEG Input CSF\", color=\"red\")\n",
    "_ = ax1.hist(image_mrbrains.flatten()[np.where(seg_mrbrains.flatten() == 1)], bins=256,\n",
    "                          range=(0, 1),\n",
    "                          density=True, label=\"MRBrainS Normalized CSF\", color=\"cornflowerblue\")\n",
    "_ = ax1.hist(image_iseg.flatten()[np.where(seg_iseg.flatten() == 1)], bins=256,\n",
    "                          range=(0, 1),\n",
    "                          alpha=0.75,\n",
    "                          density=True, label=\"iSEG Normalized CSF\", color=\"lightcoral\")\n",
    "ax1.set_xlabel(\"Intensity\")\n",
    "ax1.set_ylabel(\"Normalized voxel count\")\n",
    "ax1.set_title(\"Generated CSF Histogram\")\n",
    "ax1.legend()\n",
    "\n",
    "_, bins, _ = ax2.hist(input_mrbrains.flatten()[np.where(gt_mrbrains.flatten() == 2)], bins=256,\n",
    "                          range=(0, 1),\n",
    "                          density=True, label=\"MRBrainS Input GM\", color=\"darkblue\")\n",
    "_ = ax2.hist(input_iseg.flatten()[np.where(gt_iseg.flatten() == 2)], bins=256,\n",
    "                          range=(0, 1),\n",
    "                          alpha=0.75,\n",
    "                          density=True, label=\"iSEG Input GM\", color=\"red\")\n",
    "_ = ax2.hist(image_mrbrains.flatten()[np.where(seg_mrbrains.flatten() == 2)], bins=256,\n",
    "                          range=(0, 1),\n",
    "                          density=True, label=\"MRBrainS Normalized GM\", color=\"cornflowerblue\")\n",
    "_ = ax2.hist(image_iseg.flatten()[np.where(seg_iseg.flatten() == 2)], bins=256,\n",
    "                          range=(0, 1),\n",
    "                          alpha=0.75,\n",
    "                          density=True, label=\"iSEG Normalized GM\", color=\"lightcoral\")\n",
    "ax2.set_xlabel(\"Intensity\")\n",
    "ax2.set_ylabel(\"Normalized voxel count\")\n",
    "ax2.set_title(\"Generated Grey Matter Histogram\")\n",
    "ax2.legend()\n",
    "\n",
    "_, bins, _ = ax3.hist(input_mrbrains.flatten()[np.where(gt_mrbrains.flatten() == 3)], bins=256,\n",
    "                          range=(0, 1),\n",
    "                          density=True, label=\"MRBrainS Input WM\", color=\"darkblue\")\n",
    "_ = ax3.hist(input_iseg.flatten()[np.where(gt_iseg.flatten() == 3)], bins=256,\n",
    "                          range=(0, 1),\n",
    "                          alpha=0.75,\n",
    "                          density=True, label=\"iSEG Input WM\", color=\"red\")\n",
    "_ = ax3.hist(image_mrbrains.flatten()[np.where(seg_mrbrains.flatten() == 3)], bins=256,\n",
    "                          range=(0, 1),\n",
    "                          density=True, label=\"MRBrainS Normalized WM\", color=\"cornflowerblue\")\n",
    "_ = ax3.hist(image_iseg.flatten()[np.where(seg_iseg.flatten() == 3)], bins=256,\n",
    "                          range=(0, 1),\n",
    "                          alpha=0.75,\n",
    "                          density=True, label=\"iSEG Normalized WM\", color=\"lightcoral\")\n",
    "ax3.set_xlabel(\"Intensity\")\n",
    "ax3.set_ylabel(\"Normalized voxel count\")\n",
    "ax3.set_title(\"Generated White Matter Histogram\")\n",
    "ax3.legend()\n",
    "\n",
    "fig1.tight_layout()\n",
    "fig1.savefig(\"histograms_dual_unet.png\")"
   ],
   "metadata": {
    "collapsed": false,
    "pycharm": {
     "name": "#%%\n"
    }
   }
  },
  {
   "cell_type": "code",
   "execution_count": null,
   "outputs": [],
   "source": [
    "import torch\n",
    "ones = torch.Tensor().new_ones((1, 256, 256, 192))\n",
    "\n",
    "from torchvision.transforms import transforms\n",
    "transforms_ = transforms.Compose(\n",
    "            [AddBiasField(1.0, alpha=0.5), AddNoise(1.0, snr=60, noise_type=\"rician\")])\n",
    "\n",
    "transformed = transforms_(ones)\n",
    "\n",
    "plt.imshow(transformed[0, 128, : ,:])\n",
    "plt.show()"
   ],
   "metadata": {
    "collapsed": false,
    "pycharm": {
     "name": "#%%\n"
    }
   }
  },
  {
   "cell_type": "code",
   "execution_count": null,
   "outputs": [],
   "source": [
    "\n"
   ],
   "metadata": {
    "collapsed": false,
    "pycharm": {
     "name": "#%%\n"
    }
   }
  }
 ],
 "metadata": {
  "kernelspec": {
   "display_name": "Python 3",
   "language": "python",
   "name": "python3"
  },
  "language_info": {
   "codemirror_mode": {
    "name": "ipython",
    "version": 2
   },
   "file_extension": ".py",
   "mimetype": "text/x-python",
   "name": "python",
   "nbconvert_exporter": "python",
   "pygments_lexer": "ipython2",
   "version": "2.7.6"
  }
 },
 "nbformat": 4,
 "nbformat_minor": 0
}