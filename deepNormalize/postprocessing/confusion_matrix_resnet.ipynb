{
 "cells": [
  {
   "cell_type": "code",
   "execution_count": null,
   "metadata": {
    "collapsed": true
   },
   "outputs": [],
   "source": [
    "import matplotlib.pyplot as plt\n",
    "import seaborn as sns; sns.set()\n",
    "sns.set(font_scale=2)\n"
   ]
  },
  {
   "cell_type": "code",
   "execution_count": null,
   "outputs": [],
   "source": [
    "fig, ax = plt.subplots(1, 1, figsize = (15, 15), dpi=450)\n",
    "\n",
    "X = [[0.5,0,0],\n",
    "    [0,0.249293679367937,0],\n",
    "    [0,0,0.250700070007001]]\n",
    "\n",
    "y = [\"Generated\", \"MRBrainS\", \"iSEG\"]\n",
    "sns.heatmap(X, xticklabels=y, robust=True, annot=True, cmap=\"RdBu_r\")\n",
    "ax.set_yticklabels(y, va='center')\n",
    "ax.set_ylabel(\"Actual\")\n",
    "ax.set_xlabel(\"Predicted\")\n",
    "ax.set_title(\"Discriminator Test Confusion Matrix $\\lambda=0.0001$\")"
   ],
   "metadata": {
    "collapsed": false,
    "pycharm": {
     "name": "#%%\n"
    }
   }
  },
  {
   "cell_type": "code",
   "execution_count": null,
   "outputs": [],
   "source": [
    "fig, ax = plt.subplots(1, 1, figsize = (15, 15), dpi=450)\n",
    "\n",
    "X =[[0.243722889556223,0,0.256277110443777],\n",
    "    [0.249040707374041,0.0,0.0],\n",
    "    [0.249770603937271,0.0,0]]\n",
    "\n",
    "y = [\"Generated\", \"MRBrainS\", \"iSEG\"]\n",
    "sns.heatmap(X, xticklabels=y, robust=True, annot=True, cmap=\"RdBu_r\")\n",
    "ax.set_yticklabels(y, va='center')\n",
    "ax.set_ylabel(\"Actual\")\n",
    "ax.set_xlabel(\"Predicted\")\n",
    "ax.set_title(\"Discriminator Test Confusion Matrix $\\lambda=0.0001$\")#%%"
   ],
   "metadata": {
    "collapsed": false,
    "pycharm": {
     "name": "#%%\n"
    }
   }
  },
  {
   "cell_type": "code",
   "execution_count": null,
   "outputs": [],
   "source": [
    "fig, ax = plt.subplots(1, 1, figsize = (15, 15), dpi=450)\n",
    "\n",
    "X = [[0.0229335433543354,0.0000562556255625563,0.227285228522852],\n",
    "[0.0287778777877788,0.220878337833783,0.0000687568756875688],\n",
    "[0.298073557355736,0.100522552255226,0.101403890389039]]\n",
    "\n",
    "y = [\"Generated\", \"MRBrainS\", \"iSEG\"]\n",
    "sns.heatmap(X, xticklabels=y, robust=True, annot=True, cmap=\"RdBu_r\")\n",
    "ax.set_yticklabels(y, va='center')\n",
    "ax.set_ylabel(\"Actual\")\n",
    "ax.set_xlabel(\"Predicted\")\n",
    "ax.set_title(\"Discriminator Training Confusion Matrix $\\lambda=0.10$\")"
   ],
   "metadata": {
    "collapsed": false,
    "pycharm": {
     "name": "#%%\n"
    }
   }
  },
  {
   "cell_type": "code",
   "execution_count": null,
   "outputs": [],
   "source": [
    "fig, ax = plt.subplots(1, 1, figsize = (15, 15), dpi=450)\n",
    "\n",
    "X = [[0.239593760427094,0,0.0102811144477811],\n",
    "[0.239614614614615,0.00404571237904571,0.0064647981314648],\n",
    "[0.479959125792459,0.00886302969636303,0.0111778445111778]]\n",
    "\n",
    "y = [\"Generated\", \"MRBrainS\", \"iSEG\"]\n",
    "sns.heatmap(X, xticklabels=y, robust=True, annot=True, cmap=\"RdBu_r\")\n",
    "ax.set_yticklabels(y, va='center')\n",
    "ax.set_ylabel(\"Actual\")\n",
    "ax.set_xlabel(\"Predicted\")\n",
    "ax.set_title(\"Discriminator Test Confusion Matrix $\\lambda=0.10$\")"
   ],
   "metadata": {
    "collapsed": false,
    "pycharm": {
     "name": "#%%\n"
    }
   }
  },
  {
   "cell_type": "code",
   "execution_count": null,
   "outputs": [],
   "source": [
    "fig, ax = plt.subplots(1, 1, figsize = (15, 15), dpi=450)\n",
    "\n",
    "X = [[0.131469396939694,0.176661416141614,0.191869186918692],\n",
    "    [0.0586746174617462,0.190575307530753,0.],\n",
    "    [0.0519239423942394, 0, 0.198826132613261]]\n",
    "\n",
    "y = [\"Generated\", \"MRBrainS\", \"iSEG\"]\n",
    "sns.heatmap(X, xticklabels=y, robust=True, annot=True, cmap=\"RdBu_r\")\n",
    "ax.set_yticklabels(y, va='center')\n",
    "ax.set_ylabel(\"Actual\")\n",
    "ax.set_xlabel(\"Predicted\")\n",
    "ax.set_title(\"Discriminator Training Confusion Matrix $\\lambda=0.5$\")"
   ],
   "metadata": {
    "collapsed": false,
    "pycharm": {
     "name": "#%%\n"
    }
   }
  },
  {
   "cell_type": "code",
   "execution_count": null,
   "outputs": [],
   "source": [
    "fig, ax = plt.subplots(1, 1, figsize = (15, 15), dpi=450)\n",
    "\n",
    "X = [[0.49879045712379,0,0.0],\n",
    "     [0.249916583249917,0,0],\n",
    "     [0.24901985318652,0,0.0]]\n",
    "\n",
    "y = [\"Generated\", \"MRBrainS\", \"iSEG\"]\n",
    "sns.heatmap(X, xticklabels=y, robust=True, annot=True, cmap=\"RdBu_r\")\n",
    "ax.set_yticklabels(y, va='center')\n",
    "ax.set_ylabel(\"Actual\")\n",
    "ax.set_xlabel(\"Predicted\")\n",
    "ax.set_title(\"Discriminator Test Confusion Matrix $\\lambda=0.5$\")"
   ],
   "metadata": {
    "collapsed": false,
    "pycharm": {
     "name": "#%%\n"
    }
   }
  },
  {
   "cell_type": "code",
   "execution_count": null,
   "outputs": [],
   "source": [
    "fig, ax = plt.subplots(1, 1, figsize = (15, 15), dpi=450)\n",
    "\n",
    "X = [[0.207633263326333,0.146683418341834,0.145683318331833],\n",
    "     [0.0228272827282728, 0.22735398539854, 0,],\n",
    "     [0.0218896889688969,0, 0.227922792279228]]\n",
    "y = [\"Generated\", \"MRBrainS\", \"iSEG\"]\n",
    "sns.heatmap(X, xticklabels=y, yticklabels=y, robust=True, annot=True, cmap=\"RdBu_r\", square=True)\n",
    "ax.set_ylabel(\"Actual\")\n",
    "ax.set_yticklabels(y, va='center')\n",
    "ax.set_xlabel(\"Predicted\")\n",
    "ax.set_title(\"Discriminator Training Confusion Matrix $\\lambda=1.5$\")"
   ],
   "metadata": {
    "collapsed": false,
    "pycharm": {
     "name": "#%%\n"
    }
   }
  },
  {
   "cell_type": "code",
   "execution_count": null,
   "outputs": [],
   "source": [
    "fig, ax = plt.subplots(1, 1, figsize = (15, 15), dpi=450)\n",
    "\n",
    "X = [[0.449553720387054,0.0143268268268268,0.0361194527861195],\n",
    "    [0.207895395395395,0.0420628962295629,0.0],\n",
    "    [0.215674007340674,0,0.034325992659326]]\n",
    "\n",
    "y = [\"Generated\", \"MRBrainS\", \"iSEG\"]\n",
    "sns.heatmap(X, xticklabels=y, robust=True, annot=True, cmap=\"RdBu_r\")\n",
    "ax.set_yticklabels(y, va='center')\n",
    "ax.set_ylabel(\"Actual\")\n",
    "ax.set_xlabel(\"Predicted\")\n",
    "ax.set_title(\"Discriminator Test Confusion Matrix $\\lambda=1.5$\")"
   ],
   "metadata": {
    "collapsed": false,
    "pycharm": {
     "name": "#%%\n"
    }
   }
  },
  {
   "cell_type": "code",
   "execution_count": null,
   "outputs": [],
   "source": [
    "fig, ax = plt.subplots(1, 1, figsize = (15, 15), dpi=450)\n",
    "\n",
    "X = [[0.191169116911691,0.155034253425343,0.153796629662966],\n",
    "    [0.137157465746575,0.113467596759676,0],\n",
    "    [0.133725872587259,0,0.115649064906491]]\n",
    "\n",
    "y = [\"Generated\", \"MRBrainS\", \"iSEG\"]\n",
    "sns.heatmap(X, xticklabels=y, robust=True, annot=True, cmap=\"RdBu_r\")\n",
    "ax.set_yticklabels(y, va='center')\n",
    "ax.set_ylabel(\"Actual\")\n",
    "ax.set_xlabel(\"Predicted\")\n",
    "ax.set_title(\"Discriminator Training Confusion Matrix $\\lambda=5.0$\")"
   ],
   "metadata": {
    "collapsed": false,
    "pycharm": {
     "name": "#%%\n"
    }
   }
  },
  {
   "cell_type": "code",
   "execution_count": null,
   "outputs": [],
   "source": [
    "fig, ax = plt.subplots(1, 1, figsize = (15, 15), dpi=450)\n",
    "\n",
    "X = [[0.452348181514848,0.013450950950951,0.0342008675342009],\n",
    "    [0.207749416082749,0.0422505839172506,0],\n",
    "    [0.163496830163497,0,0.0865031698365032]]\n",
    "\n",
    "y = [\"Generated\", \"MRBrainS\", \"iSEG\"]\n",
    "sns.heatmap(X, xticklabels=y, robust=True, annot=True, cmap=\"RdBu_r\")\n",
    "ax.set_yticklabels(y, va='center')\n",
    "ax.set_ylabel(\"Actual\")\n",
    "ax.set_xlabel(\"Predicted\")\n",
    "ax.set_title(\"Discriminator Test Confusion Matrix $\\lambda=5.0$\")"
   ],
   "metadata": {
    "collapsed": false,
    "pycharm": {
     "name": "#%%\n"
    }
   }
  }
 ],
 "metadata": {
  "kernelspec": {
   "display_name": "Python 3",
   "language": "python",
   "name": "python3"
  },
  "language_info": {
   "codemirror_mode": {
    "name": "ipython",
    "version": 2
   },
   "file_extension": ".py",
   "mimetype": "text/x-python",
   "name": "python",
   "nbconvert_exporter": "python",
   "pygments_lexer": "ipython2",
   "version": "2.7.6"
  }
 },
 "nbformat": 4,
 "nbformat_minor": 0
}