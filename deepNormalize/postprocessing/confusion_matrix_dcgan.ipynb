{
 "cells": [
  {
   "cell_type": "code",
   "execution_count": null,
   "metadata": {
    "collapsed": true
   },
   "outputs": [],
   "source": [
    "import matplotlib.pyplot as plt\n",
    "import seaborn as sns; sns.set()\n",
    "sns.set(font_scale=2)"
   ]
  },
  {
   "cell_type": "code",
   "execution_count": null,
   "outputs": [],
   "source": [
    "fig, ax = plt.subplots(1, 1, figsize = (15, 15), dpi=450)\n",
    "\n",
    "X = [[0.5,0,0],\n",
    "    [0.0,0.24294304430443,0.0],\n",
    "    [0.102322732273227,0.0,0.143764376437644]]\n",
    "\n",
    "y = [\"Generated\", \"MRBrainS\", \"iSEG\"]\n",
    "sns.heatmap(X, xticklabels=y, robust=True, annot=True, cmap=\"RdBu_r\")\n",
    "ax.set_yticklabels(y, va='center')\n",
    "ax.set_ylabel(\"Actual\")\n",
    "ax.set_xlabel(\"Predicted\")\n",
    "ax.set_title(\"Discriminator Training Confusion Matrix $\\lambda=0.0001$\")"
   ],
   "metadata": {
    "collapsed": false,
    "pycharm": {
     "name": "#%%\n"
    }
   }
  },
  {
   "cell_type": "code",
   "execution_count": null,
   "outputs": [],
   "source": [
    "fig, ax = plt.subplots(1, 1, figsize = (15, 15), dpi=450)\n",
    "\n",
    "X = [[0,0,0.5],\n",
    "    [0.0243576910243577,0.223118952285619,0.0025025025025025],\n",
    "    [0.173923923923924,0,0.0760969302635969]]\n",
    "\n",
    "y = [\"Generated\", \"MRBrainS\", \"iSEG\"]\n",
    "sns.heatmap(X, xticklabels=y, robust=True, annot=True, cmap=\"RdBu_r\")\n",
    "ax.set_yticklabels(y, va='center')\n",
    "ax.set_ylabel(\"Actual\")\n",
    "ax.set_xlabel(\"Predicted\")\n",
    "ax.set_title(\"Discriminator Test Confusion Matrix $\\lambda=0.0001$\")"
   ],
   "metadata": {
    "collapsed": false,
    "pycharm": {
     "name": "#%%\n"
    }
   }
  },
  {
   "cell_type": "code",
   "execution_count": 1,
   "outputs": [
    {
     "ename": "NameError",
     "evalue": "name 'plt' is not defined",
     "output_type": "error",
     "traceback": [
      "\u001B[0;31m---------------------------------------------------------------------------\u001B[0m",
      "\u001B[0;31mNameError\u001B[0m                                 Traceback (most recent call last)",
      "\u001B[0;32m<ipython-input-1-5bb24d31225e>\u001B[0m in \u001B[0;36m<module>\u001B[0;34m\u001B[0m\n\u001B[0;32m----> 1\u001B[0;31m \u001B[0mfig\u001B[0m\u001B[0;34m,\u001B[0m \u001B[0max\u001B[0m \u001B[0;34m=\u001B[0m \u001B[0mplt\u001B[0m\u001B[0;34m.\u001B[0m\u001B[0msubplots\u001B[0m\u001B[0;34m(\u001B[0m\u001B[0;36m1\u001B[0m\u001B[0;34m,\u001B[0m \u001B[0;36m1\u001B[0m\u001B[0;34m,\u001B[0m \u001B[0mfigsize\u001B[0m \u001B[0;34m=\u001B[0m \u001B[0;34m(\u001B[0m\u001B[0;36m15\u001B[0m\u001B[0;34m,\u001B[0m \u001B[0;36m15\u001B[0m\u001B[0;34m)\u001B[0m\u001B[0;34m,\u001B[0m \u001B[0mdpi\u001B[0m\u001B[0;34m=\u001B[0m\u001B[0;36m450\u001B[0m\u001B[0;34m)\u001B[0m\u001B[0;34m\u001B[0m\u001B[0;34m\u001B[0m\u001B[0m\n\u001B[0m\u001B[1;32m      2\u001B[0m \u001B[0;34m\u001B[0m\u001B[0m\n\u001B[1;32m      3\u001B[0m X = [[0.5,0, 0],\n\u001B[1;32m      4\u001B[0m     \u001B[0;34m[\u001B[0m\u001B[0;36m0.0000875087508750875\u001B[0m\u001B[0;34m,\u001B[0m \u001B[0;36m0.244880738073807\u001B[0m\u001B[0;34m,\u001B[0m \u001B[0;36m0.00505675567556756\u001B[0m\u001B[0;34m]\u001B[0m\u001B[0;34m,\u001B[0m\u001B[0;34m\u001B[0m\u001B[0;34m\u001B[0m\u001B[0m\n\u001B[1;32m      5\u001B[0m     [0.00000625062506250625,0.00537553755375538,0.244593209320932]]\n",
      "\u001B[0;31mNameError\u001B[0m: name 'plt' is not defined"
     ]
    }
   ],
   "source": [
    "fig, ax = plt.subplots(1, 1, figsize = (15, 15), dpi=450)\n",
    "\n",
    "X = [[0.5,0, 0],\n",
    "    [0.0000875087508750875, 0.244880738073807, 0.00505675567556756],\n",
    "    [0.0,0.00537553755375538,0.244593209320932]]\n",
    "\n",
    "y = [\"Generated\", \"MRBrainS\", \"iSEG\"]\n",
    "sns.heatmap(X, xticklabels=y, robust=True, annot=True, cmap=\"RdBu_r\")\n",
    "ax.set_yticklabels(y, va='center')\n",
    "ax.set_ylabel(\"Actual\")\n",
    "ax.set_xlabel(\"Predicted\")\n",
    "ax.set_title(\"Discriminator Training Confusion Matrix $\\lambda=0.10$\")"
   ],
   "metadata": {
    "collapsed": false,
    "pycharm": {
     "name": "#%%\n"
    }
   }
  },
  {
   "cell_type": "code",
   "execution_count": null,
   "outputs": [],
   "source": [
    "fig, ax = plt.subplots(1, 1, figsize = (15, 15), dpi=450)\n",
    "\n",
    "X = [[0,0,0.5],\n",
    "    [0.0408742075408742,0.194611277944611,0.0145353687020354],\n",
    "    [0.099683016349683,0,0.150296129462796]]\n",
    "\n",
    "y = [\"Generated\", \"MRBrainS\", \"iSEG\"]\n",
    "sns.heatmap(X, xticklabels=y, robust=True, annot=True, cmap=\"RdBu_r\")\n",
    "ax.set_yticklabels(y, va='center')\n",
    "ax.set_ylabel(\"Actual\")\n",
    "ax.set_xlabel(\"Predicted\")\n",
    "ax.set_title(\"Discriminator Test Confusion Matrix $\\lambda=0.10$\")"
   ],
   "metadata": {
    "collapsed": false,
    "pycharm": {
     "name": "#%%\n"
    }
   }
  },
  {
   "cell_type": "code",
   "execution_count": null,
   "outputs": [],
   "source": [
    "fig, ax = plt.subplots(1, 1, figsize = (15, 15), dpi=450)\n",
    "\n",
    "X = [[0.137201220122012,0.181980698069807,0.180818081808181],\n",
    "     [0.0907903290329033,0.158578357835784,0.0000687568756875688],\n",
    "     [0.0861023602360236,0.000156265626562656,0.164303930393039]]\n",
    "\n",
    "y = [\"Generated\", \"MRBrainS\", \"iSEG\"]\n",
    "sns.heatmap(X, xticklabels=y, robust=True, annot=True, cmap=\"RdBu_r\")\n",
    "ax.set_yticklabels(y, va='center')\n",
    "ax.set_ylabel(\"Actual\")\n",
    "ax.set_xlabel(\"Predicted\")\n",
    "ax.set_title(\"Discriminator Training Confusion Matrix $\\lambda=0.5$\")"
   ],
   "metadata": {
    "collapsed": false,
    "pycharm": {
     "name": "#%%\n"
    }
   }
  },
  {
   "cell_type": "code",
   "execution_count": null,
   "outputs": [],
   "source": [
    "fig, ax = plt.subplots(1, 1, figsize = (15, 15), dpi=450)\n",
    "\n",
    "X = [[0.121496496496496,0.144102435769102,0.234401067734401],\n",
    "    [0.225975975975976,0.0234192525859193,0.000625625625625626],\n",
    "    [0.0400608942275609,0,0.209918251584918]]\n",
    "y = [\"Generated\", \"MRBrainS\", \"iSEG\"]\n",
    "sns.heatmap(X, xticklabels=y, robust=True, annot=True, cmap=\"RdBu_r\")\n",
    "ax.set_yticklabels(y, va='center')\n",
    "ax.set_ylabel(\"Actual\")\n",
    "ax.set_xlabel(\"Predicted\")\n",
    "ax.set_title(\"Discriminator Test Confusion Matrix $\\lambda=0.5$\")"
   ],
   "metadata": {
    "collapsed": false,
    "pycharm": {
     "name": "#%%\n"
    }
   }
  },
  {
   "cell_type": "code",
   "execution_count": null,
   "outputs": [],
   "source": [
    "fig, ax = plt.subplots(1, 1, figsize = (15, 15), dpi=450)\n",
    "\n",
    "X = [[0.0980035503550355,0.195038253825383,0.206958195819582],\n",
    "     [0.0854210421042104,0.164447694769477,0.0000812581258125813],\n",
    "     [0.0711196119611961,0.000312531253125313,0.178617861786179]]\n",
    "\n",
    "y = [\"Generated\", \"MRBrainS\", \"iSEG\"]\n",
    "sns.heatmap(X, xticklabels=y, yticklabels=y, robust=True, annot=True, cmap=\"RdBu_r\", square=True)\n",
    "ax.set_ylabel(\"Actual\")\n",
    "ax.set_yticklabels(y, va='center')\n",
    "ax.set_xlabel(\"Predicted\")\n",
    "ax.set_title(\"Discriminator Training Confusion Matrix $\\lambda=1.5$\")"
   ],
   "metadata": {
    "collapsed": false,
    "pycharm": {
     "name": "#%%\n"
    }
   }
  },
  {
   "cell_type": "code",
   "execution_count": null,
   "outputs": [],
   "source": [
    "fig, ax = plt.subplots(1, 1, figsize = (15, 15), dpi=450)\n",
    "\n",
    "X = [[0.0349516182849516,0.218093093093093,0.246955288621955],\n",
    "     [0.186478144811478,0.0630422088755422,0.000333667000333667],\n",
    "     [0.0223556890223557,0,0.22779029029029]]\n",
    "\n",
    "y = [\"Generated\", \"MRBrainS\", \"iSEG\"]\n",
    "sns.heatmap(X, xticklabels=y, robust=True, annot=True, cmap=\"RdBu_r\")\n",
    "ax.set_yticklabels(y, va='center')\n",
    "ax.set_ylabel(\"Actual\")\n",
    "ax.set_xlabel(\"Predicted\")\n",
    "ax.set_title(\"Discriminator Test Confusion Matrix $\\lambda=1.5$\")"
   ],
   "metadata": {
    "collapsed": false,
    "pycharm": {
     "name": "#%%\n"
    }
   }
  },
  {
   "cell_type": "code",
   "execution_count": null,
   "outputs": [],
   "source": [
    "fig, ax = plt.subplots(1, 1, figsize = (15, 15), dpi=450)\n",
    "\n",
    "X = [[0.105454295429543,0.184412191219122,0.210133513351335],\n",
    "     [0.0910716071607161,0.158478347834783,0.0],\n",
    "     [0.0736386138613861,0.0,0.176680168016802]]\n",
    "\n",
    "y = [\"Generated\", \"MRBrainS\", \"iSEG\"]\n",
    "sns.heatmap(X, xticklabels=y, robust=True, annot=True, cmap=\"RdBu_r\")\n",
    "ax.set_yticklabels(y, va='center')\n",
    "ax.set_ylabel(\"Actual\")\n",
    "ax.set_xlabel(\"Predicted\")\n",
    "ax.set_title(\"Discriminator Training Confusion Matrix $\\lambda=5.0$\")"
   ],
   "metadata": {
    "collapsed": false,
    "pycharm": {
     "name": "#%%\n"
    }
   }
  },
  {
   "cell_type": "code",
   "execution_count": null,
   "outputs": [],
   "source": [
    "fig, ax = plt.subplots(1, 1, figsize = (15, 15), dpi=450)\n",
    "\n",
    "X = [[0.0764305972639306,0,0.17359025692359],\n",
    "     [0.162704371037704,0.0872122122122122,0.0000625625625625626],\n",
    "     [0.0249624624624625,0.228103103103103,0.246934434434434]]\n",
    "\n",
    "y = [\"Generated\", \"MRBrainS\", \"iSEG\"]\n",
    "sns.heatmap(X, xticklabels=y, robust=True, annot=True, cmap=\"RdBu_r\")\n",
    "ax.set_yticklabels(y, va='center')\n",
    "ax.set_ylabel(\"Actual\")\n",
    "ax.set_xlabel(\"Predicted\")\n",
    "ax.set_title(\"Discriminator Test Confusion Matrix $\\lambda=5.0$\")"
   ],
   "metadata": {
    "collapsed": false,
    "pycharm": {
     "name": "#%%\n"
    }
   }
  }
 ],
 "metadata": {
  "kernelspec": {
   "display_name": "Python 3",
   "language": "python",
   "name": "python3"
  },
  "language_info": {
   "codemirror_mode": {
    "name": "ipython",
    "version": 2
   },
   "file_extension": ".py",
   "mimetype": "text/x-python",
   "name": "python",
   "nbconvert_exporter": "python",
   "pygments_lexer": "ipython2",
   "version": "2.7.6"
  }
 },
 "nbformat": 4,
 "nbformat_minor": 0
}